{
 "cells": [
  {
   "cell_type": "markdown",
   "id": "e53c54d7",
   "metadata": {},
   "source": [
    "# PROJETO 3 - SISTEMAS MECÂNICOS\n",
    "\n",
    "### Grupo 2 - \n",
    "\n",
    "- - -\n",
    "##### Modelo e Gráfico conclusivo:\n",
    "\n",
    "\n",
    "___"
   ]
  },
  {
   "cell_type": "markdown",
   "id": "78b37fd1",
   "metadata": {},
   "source": [
    "#### Imports"
   ]
  },
  {
   "cell_type": "code",
   "execution_count": 4,
   "id": "31894cd2",
   "metadata": {},
   "outputs": [],
   "source": [
    "import numpy as np\n",
    "import matplotlib.pyplot as plt\n",
    "from math import *\n",
    "from scipy.integrate import odeint"
   ]
  },
  {
   "cell_type": "markdown",
   "id": "b39b79aa",
   "metadata": {},
   "source": [
    "## Diagrama de corpo livre"
   ]
  },
  {
   "cell_type": "markdown",
   "id": "c56cb3fc",
   "metadata": {},
   "source": [
    "![DCL](DCL2.png \"Diagrama de corpo livre\")"
   ]
  }
 ],
 "metadata": {
  "kernelspec": {
   "display_name": "base",
   "language": "python",
   "name": "python3"
  },
  "language_info": {
   "codemirror_mode": {
    "name": "ipython",
    "version": 3
   },
   "file_extension": ".py",
   "mimetype": "text/x-python",
   "name": "python",
   "nbconvert_exporter": "python",
   "pygments_lexer": "ipython3",
   "version": "3.13.5"
  }
 },
 "nbformat": 4,
 "nbformat_minor": 5
}
