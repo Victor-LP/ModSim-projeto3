{
 "cells": [
  {
   "cell_type": "markdown",
   "id": "69733b87",
   "metadata": {},
   "source": [
    "Declarar constantes"
   ]
  }
 ],
 "metadata": {
  "language_info": {
   "name": "python"
  }
 },
 "nbformat": 4,
 "nbformat_minor": 5
}
